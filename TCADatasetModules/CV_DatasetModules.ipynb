{
 "cells": [
  {
   "cell_type": "code",
   "execution_count": 14,
   "outputs": [],
   "source": [
    "from typing import Optional\n",
    "\n",
    "import torch\n",
    "import pytorch_lightning as pl\n",
    "from omegaconf import DictConfig\n",
    "from pathlib import Path\n",
    "\n",
    "from pytorch_lightning.utilities.types import TRAIN_DATALOADERS, EVAL_DATALOADERS\n",
    "from torch.utils.data import Dataset, DataLoader\n",
    "import torchvision\n",
    "\n",
    "\n",
    "class CVDataModule(pl.LightningDataModule):\n",
    "    def __init__(self, model_cfg: DictConfig, dataset_name: str, **kwargs):\n",
    "        super(CVDataModule, self).__init__(**kwargs)\n",
    "        self.model_cfg = model_cfg\n",
    "        self.dataset_name = dataset_name\n",
    "\n",
    "    def dataset_cls(self):\n",
    "        if self.dataset_name == \"cifar10\":\n",
    "            return CIFAR10\n",
    "\n",
    "    def setup(self, stage: Optional[str] = None) -> None:\n",
    "        dataset = self.dataset_cls()\n",
    "        if stage == \"fit\" or stage is None:\n",
    "            self.train_set = dataset(\"train\")\n",
    "            self.val_set = dataset(\"test\")\n",
    "        if stage == \"test\":\n",
    "            self.test_set = dataset(\"test\")\n",
    "\n",
    "    def train_dataloader(self) -> TRAIN_DATALOADERS:\n",
    "        return DataLoader(self.train_set, shuffle=True, **self.model_cfg[\"loader\"])\n",
    "\n",
    "    def val_dataloader(self) -> EVAL_DATALOADERS:\n",
    "        return DataLoader(self.val_set, shuffle=False, **self.model_cfg[\"loader\"])\n",
    "\n",
    "    def test_dataloader(self) -> EVAL_DATALOADERS:\n",
    "        return DataLoader(self.test_set, shuffle=False, **self.model_cfg[\"loader\"])\n",
    "\n",
    "\n",
    "class CIFAR10(Dataset):\n",
    "    def __init__(self, mode: str, **kwargs):\n",
    "        super(CIFAR10, self).__init__(**kwargs)\n",
    "        self.data = self.dataperpared(mode)\n",
    "\n",
    "    def dataperpared(self, mode: str):\n",
    "        transform = torchvision.transforms.Compose([torchvision.transforms.ToTensor()])\n",
    "        if mode == \"train\":\n",
    "            mode = True\n",
    "        else:\n",
    "            mode = False\n",
    "        return torchvision.datasets.CIFAR10(root=\"/home/kaggle/competitions\", train=mode,\n",
    "                                            download=False, transform=transform)\n",
    "\n",
    "    def __len__(self):\n",
    "        return len(self.data)\n",
    "\n",
    "    def __getitem__(self, item):\n",
    "        sample = self.data[item]\n",
    "        return {\n",
    "            \"image\": sample[0],\n",
    "            \"label\": sample[1]\n",
    "        }\n",
    "\n",
    "\n",
    "def plt(sample):\n",
    "    import matplotlib.pyplot as plt\n",
    "    plt.imshow(sample[\"image\"].squeeze(0).permute(1, 2, 0).numpy())\n",
    "    plt.show()\n",
    "\n",
    "\n",
    "\n"
   ],
   "metadata": {
    "collapsed": false,
    "pycharm": {
     "name": "#%%\n"
    }
   }
  },
  {
   "cell_type": "code",
   "execution_count": 15,
   "outputs": [
    {
     "data": {
      "text/plain": "{'loader': {'batch_size': 1, 'num_workers': 4}}"
     },
     "execution_count": 15,
     "metadata": {},
     "output_type": "execute_result"
    }
   ],
   "source": [
    "from omegaconf import OmegaConf\n",
    "model_cfg = OmegaConf.load(\"../configs/model.yml\")\n",
    "model_cfg\n"
   ],
   "metadata": {
    "collapsed": false,
    "pycharm": {
     "name": "#%%\n"
    }
   }
  },
  {
   "cell_type": "code",
   "execution_count": 18,
   "outputs": [
    {
     "data": {
      "text/plain": "<Figure size 640x480 with 1 Axes>",
      "image/png": "[encoded data removed]"
     },
     "metadata": {},
     "output_type": "display_data"
    },
    {
     "data": {
      "text/plain": "{'image': tensor([[[[0.9333, 0.9333, 0.9412,  ..., 0.8784, 0.7098, 0.7216],\n           [0.9294, 0.9294, 0.9333,  ..., 0.5882, 0.3922, 0.4314],\n           [0.9216, 0.9216, 0.9294,  ..., 0.3922, 0.2824, 0.2549],\n           ...,\n           [0.7059, 0.7020, 0.6980,  ..., 0.5216, 0.5882, 0.4314],\n           [0.7294, 0.7216, 0.7137,  ..., 0.4157, 0.5294, 0.3804],\n           [0.7490, 0.7294, 0.7294,  ..., 0.5608, 0.4627, 0.2863]],\n \n          [[0.9294, 0.9294, 0.9373,  ..., 0.9020, 0.7373, 0.7451],\n           [0.9255, 0.9255, 0.9294,  ..., 0.6471, 0.4627, 0.5098],\n           [0.9176, 0.9176, 0.9255,  ..., 0.4471, 0.3569, 0.3451],\n           ...,\n           [0.6314, 0.6275, 0.6235,  ..., 0.4745, 0.5451, 0.4118],\n           [0.6549, 0.6471, 0.6431,  ..., 0.3765, 0.5020, 0.3961],\n           [0.6745, 0.6549, 0.6549,  ..., 0.5059, 0.4196, 0.2824]],\n \n          [[0.9529, 0.9529, 0.9569,  ..., 0.8588, 0.6706, 0.6863],\n           [0.9490, 0.9490, 0.9490,  ..., 0.5490, 0.3294, 0.3765],\n           [0.9412, 0.9412, 0.9451,  ..., 0.3333, 0.2118, 0.1961],\n           ...,\n           [0.6392, 0.6353, 0.6275,  ..., 0.3176, 0.3961, 0.2627],\n           [0.6627, 0.6549, 0.6510,  ..., 0.1922, 0.3176, 0.2275],\n           [0.6824, 0.6627, 0.6667,  ..., 0.3529, 0.2706, 0.1490]]]]),\n 'label': tensor([9])}"
     },
     "execution_count": 18,
     "metadata": {},
     "output_type": "execute_result"
    }
   ],
   "source": [
    "\n",
    "from omegaconf import OmegaConf\n",
    "model_cfg = OmegaConf.load(\"../configs/model.yml\")\n",
    "dm = CVDataModule(model_cfg, \"cifar10\")\n",
    "dm.setup(\"fit\")\n",
    "dataloader = dm.train_dataloader()\n",
    "itera = iter(dataloader).next()\n",
    "plt(itera)\n",
    "itera"
   ],
   "metadata": {
    "collapsed": false,
    "pycharm": {
     "name": "#%%\n"
    }
   }
  }
 ],
 "metadata": {
  "kernelspec": {
   "display_name": "Python 3",
   "language": "python",
   "name": "python3"
  },
  "language_info": {
   "codemirror_mode": {
    "name": "ipython",
    "version": 2
   },
   "file_extension": ".py",
   "mimetype": "text/x-python",
   "name": "python",
   "nbconvert_exporter": "python",
   "pygments_lexer": "ipython2",
   "version": "2.7.6"
  }
 },
 "nbformat": 4,
 "nbformat_minor": 0
}